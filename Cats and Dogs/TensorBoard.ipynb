{
 "cells": [
  {
   "cell_type": "code",
   "execution_count": 4,
   "metadata": {
    "scrolled": true
   },
   "outputs": [
    {
     "name": "stdout",
     "output_type": "stream",
     "text": [
      "Train on 17462 samples, validate on 7484 samples\n",
      "Epoch 1/10\n",
      "17462/17462 [==============================] - 4s 220us/sample - loss: 0.6347 - acc: 0.6381 - val_loss: 0.5646 - val_acc: 0.7127\n",
      "Epoch 2/10\n",
      "17462/17462 [==============================] - 4s 201us/sample - loss: 0.5350 - acc: 0.7324 - val_loss: 0.5123 - val_acc: 0.7517\n",
      "Epoch 3/10\n",
      "17462/17462 [==============================] - 4s 206us/sample - loss: 0.4905 - acc: 0.7642 - val_loss: 0.4927 - val_acc: 0.7603\n",
      "Epoch 4/10\n",
      "17462/17462 [==============================] - 4s 202us/sample - loss: 0.4572 - acc: 0.7860 - val_loss: 0.5264 - val_acc: 0.7380\n",
      "Epoch 5/10\n",
      "17462/17462 [==============================] - 4s 201us/sample - loss: 0.4321 - acc: 0.7992 - val_loss: 0.4795 - val_acc: 0.7719\n",
      "Epoch 6/10\n",
      "17462/17462 [==============================] - 3s 199us/sample - loss: 0.4051 - acc: 0.8143 - val_loss: 0.4653 - val_acc: 0.7878\n",
      "Epoch 7/10\n",
      "17462/17462 [==============================] - 4s 205us/sample - loss: 0.3857 - acc: 0.8303 - val_loss: 0.4675 - val_acc: 0.7904\n",
      "Epoch 8/10\n",
      "17462/17462 [==============================] - 4s 209us/sample - loss: 0.3670 - acc: 0.8356 - val_loss: 0.4496 - val_acc: 0.7949\n",
      "Epoch 9/10\n",
      "17462/17462 [==============================] - 4s 202us/sample - loss: 0.3502 - acc: 0.8453 - val_loss: 0.4390 - val_acc: 0.8034\n",
      "Epoch 10/10\n",
      "17462/17462 [==============================] - 3s 199us/sample - loss: 0.3253 - acc: 0.8569 - val_loss: 0.5092 - val_acc: 0.7761\n"
     ]
    },
    {
     "data": {
      "text/plain": [
       "<tensorflow.python.keras.callbacks.History at 0x2ad6df72348>"
      ]
     },
     "execution_count": 4,
     "metadata": {},
     "output_type": "execute_result"
    }
   ],
   "source": [
    "import tensorflow as tf\n",
    "from tensorflow.keras.datasets import cifar10\n",
    "from tensorflow.keras.preprocessing.image import ImageDataGenerator\n",
    "from tensorflow.keras.models import Sequential\n",
    "from tensorflow.keras.layers import Dense, Dropout, Activation, Flatten\n",
    "from tensorflow.keras.layers import Conv2D, MaxPooling2D\n",
    "# more info on callbakcs: https://keras.io/callbacks/ model saver is cool too.\n",
    "from tensorflow.keras.callbacks import TensorBoard\n",
    "import pickle\n",
    "import time\n",
    "\n",
    "NAME = 'Cats-vs-dog-cnn-64x2-{}'.format(int(time.time()))\n",
    "\n",
    "tensorboard = TensorBoard(log_dir = 'logs\\{}'.format(NAME))\n",
    "\n",
    "gpu_options = tf.GPUOptions(per_process_gpu_memory_fraction=0.33)\n",
    "sess = tf.Session(config=tf.ConfigProto(gpu_options=gpu_options))\n",
    "\n",
    "X = pickle.load(open('X.pickle','rb'))\n",
    "y = pickle.load(open('y.pickle','rb'))\n",
    "\n",
    "X = X/255.0\n",
    "\n",
    "model = Sequential()\n",
    "model.add(Conv2D(64,(3,3), input_shape = X.shape[1:]))\n",
    "model.add(Activation('relu'))\n",
    "model.add(MaxPooling2D(pool_size = (2,2)))\n",
    "\n",
    "model.add(Conv2D(64,(3,3)))\n",
    "model.add(Activation('relu'))\n",
    "model.add(MaxPooling2D(pool_size = (2,2)))\n",
    "\n",
    "model.add(Flatten())\n",
    "\n",
    "#model.add(Dense(64))\n",
    "#model.add(Activation('relu'))\n",
    "\n",
    "model.add(Dense(1))\n",
    "model.add(Activation('sigmoid'))\n",
    "\n",
    "model.compile(loss ='binary_crossentropy', optimizer = 'adam', metrics = ['accuracy'])\n",
    "\n",
    "model.fit(X, y, batch_size = 20, epochs = 10, validation_split = 0.3, callbacks = [tensorboard])"
   ]
  },
  {
   "cell_type": "code",
   "execution_count": null,
   "metadata": {},
   "outputs": [],
   "source": []
  }
 ],
 "metadata": {
  "kernelspec": {
   "display_name": "Python 3",
   "language": "python",
   "name": "python3"
  },
  "language_info": {
   "codemirror_mode": {
    "name": "ipython",
    "version": 3
   },
   "file_extension": ".py",
   "mimetype": "text/x-python",
   "name": "python",
   "nbconvert_exporter": "python",
   "pygments_lexer": "ipython3",
   "version": "3.7.4"
  }
 },
 "nbformat": 4,
 "nbformat_minor": 2
}
