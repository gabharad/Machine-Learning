{
 "cells": [
  {
   "cell_type": "code",
   "execution_count": 1,
   "metadata": {},
   "outputs": [
    {
     "name": "stderr",
     "output_type": "stream",
     "text": [
      "WARNING: Logging before flag parsing goes to stderr.\n",
      "W0107 00:20:05.240833 18060 deprecation.py:506] From C:\\Users\\PC.DESKTOP-K03KM02\\Anaconda3\\envs\\tf-gpu\\lib\\site-packages\\tensorflow\\python\\ops\\init_ops.py:1251: calling VarianceScaling.__init__ (from tensorflow.python.ops.init_ops) with dtype is deprecated and will be removed in a future version.\n",
      "Instructions for updating:\n",
      "Call initializer instance with the dtype argument instead of passing it to the constructor\n",
      "W0107 00:20:05.360513 18060 deprecation.py:323] From C:\\Users\\PC.DESKTOP-K03KM02\\Anaconda3\\envs\\tf-gpu\\lib\\site-packages\\tensorflow\\python\\ops\\nn_impl.py:180: add_dispatch_support.<locals>.wrapper (from tensorflow.python.ops.array_ops) is deprecated and will be removed in a future version.\n",
      "Instructions for updating:\n",
      "Use tf.where in 2.0, which has the same broadcast rule as np.where\n"
     ]
    },
    {
     "name": "stdout",
     "output_type": "stream",
     "text": [
      "Train on 22451 samples, validate on 2495 samples\n",
      "Epoch 1/10\n",
      "22451/22451 [==============================] - 5s 236us/sample - loss: 0.6516 - acc: 0.6143 - val_loss: 0.5903 - val_acc: 0.6902\n",
      "Epoch 2/10\n",
      "22451/22451 [==============================] - 3s 126us/sample - loss: 0.5632 - acc: 0.7131 - val_loss: 0.5204 - val_acc: 0.7467\n",
      "Epoch 3/10\n",
      "22451/22451 [==============================] - 3s 123us/sample - loss: 0.5060 - acc: 0.7558 - val_loss: 0.4945 - val_acc: 0.7631\n",
      "Epoch 4/10\n",
      "22451/22451 [==============================] - 3s 124us/sample - loss: 0.4689 - acc: 0.7803 - val_loss: 0.4852 - val_acc: 0.7659\n",
      "Epoch 5/10\n",
      "22451/22451 [==============================] - 3s 125us/sample - loss: 0.4399 - acc: 0.7957 - val_loss: 0.5636 - val_acc: 0.7259\n",
      "Epoch 6/10\n",
      "22451/22451 [==============================] - 3s 124us/sample - loss: 0.4194 - acc: 0.8053 - val_loss: 0.4591 - val_acc: 0.7944\n",
      "Epoch 7/10\n",
      "22451/22451 [==============================] - 3s 123us/sample - loss: 0.4063 - acc: 0.8165 - val_loss: 0.4584 - val_acc: 0.7940\n",
      "Epoch 8/10\n",
      "22451/22451 [==============================] - 3s 124us/sample - loss: 0.3874 - acc: 0.8253 - val_loss: 0.4572 - val_acc: 0.7936\n",
      "Epoch 9/10\n",
      "22451/22451 [==============================] - 3s 128us/sample - loss: 0.3736 - acc: 0.8328 - val_loss: 0.4661 - val_acc: 0.7828\n",
      "Epoch 10/10\n",
      "22451/22451 [==============================] - 3s 126us/sample - loss: 0.3596 - acc: 0.8405 - val_loss: 0.4721 - val_acc: 0.7912\n"
     ]
    },
    {
     "data": {
      "text/plain": [
       "<tensorflow.python.keras.callbacks.History at 0x1ea0aaf3988>"
      ]
     },
     "execution_count": 1,
     "metadata": {},
     "output_type": "execute_result"
    }
   ],
   "source": [
    "import tensorflow as tf\n",
    "from tensorflow.keras.models import Sequential\n",
    "from tensorflow.keras.layers import Dense, Dropout, Activation, Flatten, Conv2D, MaxPooling2D\n",
    "import pickle\n",
    "\n",
    "X = pickle.load(open('X.pickle','rb'))\n",
    "y = pickle.load(open('y.pickle','rb'))\n",
    "\n",
    "X = X/255.0\n",
    "\n",
    "model = Sequential()\n",
    "model.add(Conv2D(64,(3,3), input_shape = X.shape[1:]))\n",
    "model.add(Activation('relu'))\n",
    "model.add(MaxPooling2D(pool_size = (2,2)))\n",
    "\n",
    "model.add(Conv2D(64,(3,3)))\n",
    "model.add(Activation('relu'))\n",
    "model.add(MaxPooling2D(pool_size = (2,2)))\n",
    "\n",
    "model.add(Flatten())\n",
    "model.add(Dense(64))\n",
    "\n",
    "model.add(Dense(1))\n",
    "model.add(Activation('sigmoid'))\n",
    "\n",
    "model.compile(loss ='binary_crossentropy', optimizer = 'adam', metrics = ['accuracy'])\n",
    "\n",
    "model.fit(X, y, batch_size = 32, epochs = 10, validation_split = 0.1)\n"
   ]
  },
  {
   "cell_type": "code",
   "execution_count": null,
   "metadata": {},
   "outputs": [],
   "source": []
  }
 ],
 "metadata": {
  "kernelspec": {
   "display_name": "Python 3",
   "language": "python",
   "name": "python3"
  },
  "language_info": {
   "codemirror_mode": {
    "name": "ipython",
    "version": 3
   },
   "file_extension": ".py",
   "mimetype": "text/x-python",
   "name": "python",
   "nbconvert_exporter": "python",
   "pygments_lexer": "ipython3",
   "version": "3.7.4"
  }
 },
 "nbformat": 4,
 "nbformat_minor": 2
}
